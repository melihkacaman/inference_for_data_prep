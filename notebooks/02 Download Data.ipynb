{
 "cells": [
  {
   "cell_type": "code",
   "execution_count": 12,
   "metadata": {},
   "outputs": [],
   "source": [
    "import pandas as pd "
   ]
  },
  {
   "cell_type": "code",
   "execution_count": 13,
   "metadata": {},
   "outputs": [],
   "source": [
    "data = pd.read_csv(\"../data/extracted_data.csv\",index_col=0)"
   ]
  },
  {
   "cell_type": "code",
   "execution_count": 14,
   "metadata": {},
   "outputs": [
    {
     "data": {
      "text/html": [
       "<div>\n",
       "<style scoped>\n",
       "    .dataframe tbody tr th:only-of-type {\n",
       "        vertical-align: middle;\n",
       "    }\n",
       "\n",
       "    .dataframe tbody tr th {\n",
       "        vertical-align: top;\n",
       "    }\n",
       "\n",
       "    .dataframe thead th {\n",
       "        text-align: right;\n",
       "    }\n",
       "</style>\n",
       "<table border=\"1\" class=\"dataframe\">\n",
       "  <thead>\n",
       "    <tr style=\"text-align: right;\">\n",
       "      <th></th>\n",
       "      <th>sidSecenek</th>\n",
       "      <th>cinsiyet</th>\n",
       "      <th>resimAdresi</th>\n",
       "      <th>urunGrubu</th>\n",
       "      <th>resimId</th>\n",
       "    </tr>\n",
       "  </thead>\n",
       "  <tbody>\n",
       "    <tr>\n",
       "      <th>0</th>\n",
       "      <td>800567</td>\n",
       "      <td>BAYAN</td>\n",
       "      <td>https://showroom.aydinli.com.tr/2023Y/08/50265...</td>\n",
       "      <td>elbise</td>\n",
       "      <td>2</td>\n",
       "    </tr>\n",
       "    <tr>\n",
       "      <th>1</th>\n",
       "      <td>492805</td>\n",
       "      <td>ERKEK</td>\n",
       "      <td>https://resim.aydinli.com.tr/05/1/002/S5014643...</td>\n",
       "      <td>CEKET</td>\n",
       "      <td>3</td>\n",
       "    </tr>\n",
       "    <tr>\n",
       "      <th>2</th>\n",
       "      <td>733538</td>\n",
       "      <td>ERKEK</td>\n",
       "      <td>https://resim.aydinli.com.tr/02/1/082/S5024138...</td>\n",
       "      <td>sweat</td>\n",
       "      <td>2</td>\n",
       "    </tr>\n",
       "    <tr>\n",
       "      <th>3</th>\n",
       "      <td>618344</td>\n",
       "      <td>BAYAN</td>\n",
       "      <td>https://resim.aydinli.com.tr/02/2/011/S5020075...</td>\n",
       "      <td>tshirt</td>\n",
       "      <td>3</td>\n",
       "    </tr>\n",
       "    <tr>\n",
       "      <th>4</th>\n",
       "      <td>670262</td>\n",
       "      <td>ERKEK</td>\n",
       "      <td>https://resim.aydinli.com.tr/05/1/004/S5021961...</td>\n",
       "      <td>gomlek</td>\n",
       "      <td>1</td>\n",
       "    </tr>\n",
       "  </tbody>\n",
       "</table>\n",
       "</div>"
      ],
      "text/plain": [
       "   sidSecenek cinsiyet                                        resimAdresi  \\\n",
       "0      800567    BAYAN  https://showroom.aydinli.com.tr/2023Y/08/50265...   \n",
       "1      492805    ERKEK  https://resim.aydinli.com.tr/05/1/002/S5014643...   \n",
       "2      733538    ERKEK  https://resim.aydinli.com.tr/02/1/082/S5024138...   \n",
       "3      618344    BAYAN  https://resim.aydinli.com.tr/02/2/011/S5020075...   \n",
       "4      670262    ERKEK  https://resim.aydinli.com.tr/05/1/004/S5021961...   \n",
       "\n",
       "  urunGrubu  resimId  \n",
       "0    elbise        2  \n",
       "1     CEKET        3  \n",
       "2     sweat        2  \n",
       "3    tshirt        3  \n",
       "4    gomlek        1  "
      ]
     },
     "execution_count": 14,
     "metadata": {},
     "output_type": "execute_result"
    }
   ],
   "source": [
    "data.head() "
   ]
  },
  {
   "cell_type": "code",
   "execution_count": 15,
   "metadata": {},
   "outputs": [
    {
     "data": {
      "text/plain": [
       "ERKEK          18399\n",
       "BAYAN          18057\n",
       "ERKEK COCUK     8676\n",
       "KIZ COCUK       6519\n",
       "KIZ BEBEK         27\n",
       "Name: cinsiyet, dtype: int64"
      ]
     },
     "execution_count": 15,
     "metadata": {},
     "output_type": "execute_result"
    }
   ],
   "source": [
    "data.cinsiyet.value_counts() "
   ]
  },
  {
   "cell_type": "code",
   "execution_count": 16,
   "metadata": {},
   "outputs": [
    {
     "data": {
      "text/plain": [
       "CEKET        6000\n",
       "sweat        6000\n",
       "tshirt       6000\n",
       "gomlek       6000\n",
       "dis-giyim    6000\n",
       "KAZAK        6000\n",
       "pant         6000\n",
       "elbise       4521\n",
       "HIRKA        4101\n",
       "ETEK         1056\n",
       "Name: urunGrubu, dtype: int64"
      ]
     },
     "execution_count": 16,
     "metadata": {},
     "output_type": "execute_result"
    }
   ],
   "source": [
    "data.urunGrubu.value_counts() "
   ]
  },
  {
   "cell_type": "code",
   "execution_count": 19,
   "metadata": {},
   "outputs": [],
   "source": [
    "import cv2 \n",
    "import os \n",
    "import requests \n",
    "import numpy as np \n",
    "\n",
    "def save_image_cv(url, scale_percent, path, size = None):\n",
    "    resp = requests.get(url, stream=True).raw \n",
    "    \n",
    "    image = np.asarray(bytearray(resp.read()), dtype=\"uint8\")\n",
    "    image = cv2.imdecode(image, cv2.IMREAD_COLOR)\n",
    "    if image is None: \n",
    "        raise TypeError(\"None type\") \n",
    "    \n",
    "    if size == None: \n",
    "        width = int(image.shape[1] * scale_percent / 100)\n",
    "        height = int(image.shape[0] * scale_percent / 100)\n",
    "        dsize = (width, height)\n",
    "    else: \n",
    "        dsize = size \n",
    "    \n",
    "    output = cv2.resize(image, dsize)\n",
    "    # output = cv2.cvtColor(output, cv2.COLOR_BGR2RGB) it is already in RGB Format  \n",
    "\n",
    "    return cv2.imwrite(path, output)\n",
    "\n",
    "\n",
    "def make_dataset_cv(dataset_name, datasource, iteration = None, set_name=\"train\"):\n",
    "    problems_rows = []\n",
    "    iterator = 0 \n",
    "    try:\n",
    "        base = os.path.abspath(os.path.join(os.path.dirname(os.getcwd()), '.'))\n",
    "        path = os.path.join('data', dataset_name)\n",
    "        path = os.path.join(base, path)\n",
    "        if not os.path.isdir(path):\n",
    "            os.mkdir(path)\n",
    "                \n",
    "        folder_set = os.path.join(path, set_name) \n",
    "        os.mkdir(folder_set) \n",
    "    \n",
    "        for img_index, img_row in datasource.iterrows():\n",
    "                try:\n",
    "                    ug_folder = os.path.join(folder_set, img_row[\"urunGrubu\"]) \n",
    "                    if not os.path.isdir(ug_folder): \n",
    "                        os.mkdir(ug_folder) \n",
    "                    \n",
    "                    if save_image_cv(img_row['resimAdresi'], \n",
    "                                     75, \n",
    "                                     os.path.join(ug_folder, str(img_index) + '.png'), \n",
    "                                     size=(720, 720)\n",
    "                                     ) == False:\n",
    "                        problems_rows.append(img_row)\n",
    "\n",
    "                    if iteration is not None and iterator == iteration:\n",
    "                        break\n",
    "                    else:\n",
    "                        iterator+=1\n",
    "                        if iterator % 1000 == 0: \n",
    "                            print(f\"Iteration {iterator}\") \n",
    "                            \n",
    "                except Exception as e2:\n",
    "                    problems_rows.append(img_row)\n",
    "                    print(e2)\n",
    "                    continue\n",
    "    except Exception as e:\n",
    "        print('An exception occurred.', e)\n",
    "    return problems_rows"
   ]
  },
  {
   "cell_type": "code",
   "execution_count": null,
   "metadata": {},
   "outputs": [],
   "source": [
    "train_missed =  make_dataset_cv(\"IMG_all\", \n",
    "                                data, \n",
    "                                set_name=\"train\") "
   ]
  },
  {
   "cell_type": "code",
   "execution_count": null,
   "metadata": {},
   "outputs": [],
   "source": []
  }
 ],
 "metadata": {
  "kernelspec": {
   "display_name": "env_similar-products",
   "language": "python",
   "name": "python3"
  },
  "language_info": {
   "codemirror_mode": {
    "name": "ipython",
    "version": 3
   },
   "file_extension": ".py",
   "mimetype": "text/x-python",
   "name": "python",
   "nbconvert_exporter": "python",
   "pygments_lexer": "ipython3",
   "version": "3.9.13"
  },
  "orig_nbformat": 4
 },
 "nbformat": 4,
 "nbformat_minor": 2
}
