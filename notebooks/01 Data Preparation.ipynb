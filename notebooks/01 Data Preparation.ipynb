{
 "cells": [
  {
   "cell_type": "code",
   "execution_count": 5,
   "metadata": {},
   "outputs": [],
   "source": [
    "import pandas as pd "
   ]
  },
  {
   "cell_type": "code",
   "execution_count": 6,
   "metadata": {},
   "outputs": [
    {
     "data": {
      "text/html": [
       "<div>\n",
       "<style scoped>\n",
       "    .dataframe tbody tr th:only-of-type {\n",
       "        vertical-align: middle;\n",
       "    }\n",
       "\n",
       "    .dataframe tbody tr th {\n",
       "        vertical-align: top;\n",
       "    }\n",
       "\n",
       "    .dataframe thead th {\n",
       "        text-align: right;\n",
       "    }\n",
       "</style>\n",
       "<table border=\"1\" class=\"dataframe\">\n",
       "  <thead>\n",
       "    <tr style=\"text-align: right;\">\n",
       "      <th></th>\n",
       "      <th>sidSecenek</th>\n",
       "      <th>cinsiyet</th>\n",
       "      <th>resimAdresi</th>\n",
       "      <th>urunGrubu</th>\n",
       "    </tr>\n",
       "  </thead>\n",
       "  <tbody>\n",
       "    <tr>\n",
       "      <th>0</th>\n",
       "      <td>517991</td>\n",
       "      <td>ERKEK</td>\n",
       "      <td>https://resim.aydinli.com.tr/02/1/0TH/S5015547...</td>\n",
       "      <td>HIRKA</td>\n",
       "    </tr>\n",
       "    <tr>\n",
       "      <th>1</th>\n",
       "      <td>796186</td>\n",
       "      <td>ERKEK COCUK</td>\n",
       "      <td>https://resim.aydinli.com.tr/08/3/078/S5026398...</td>\n",
       "      <td>pant</td>\n",
       "    </tr>\n",
       "    <tr>\n",
       "      <th>2</th>\n",
       "      <td>701103</td>\n",
       "      <td>ERKEK</td>\n",
       "      <td>https://resim.aydinli.com.tr/05/1/080/S5023066...</td>\n",
       "      <td>pant</td>\n",
       "    </tr>\n",
       "    <tr>\n",
       "      <th>3</th>\n",
       "      <td>772092</td>\n",
       "      <td>ERKEK COCUK</td>\n",
       "      <td>https://resim.aydinli.com.tr/08/3/0TK/S5025577...</td>\n",
       "      <td>KAZAK</td>\n",
       "    </tr>\n",
       "    <tr>\n",
       "      <th>4</th>\n",
       "      <td>630384</td>\n",
       "      <td>ERKEK</td>\n",
       "      <td>https://resim.aydinli.com.tr/02/1/011/S5020284...</td>\n",
       "      <td>tshirt</td>\n",
       "    </tr>\n",
       "  </tbody>\n",
       "</table>\n",
       "</div>"
      ],
      "text/plain": [
       "   sidSecenek     cinsiyet                                        resimAdresi  \\\n",
       "0      517991        ERKEK  https://resim.aydinli.com.tr/02/1/0TH/S5015547...   \n",
       "1      796186  ERKEK COCUK  https://resim.aydinli.com.tr/08/3/078/S5026398...   \n",
       "2      701103        ERKEK  https://resim.aydinli.com.tr/05/1/080/S5023066...   \n",
       "3      772092  ERKEK COCUK  https://resim.aydinli.com.tr/08/3/0TK/S5025577...   \n",
       "4      630384        ERKEK  https://resim.aydinli.com.tr/02/1/011/S5020284...   \n",
       "\n",
       "  urunGrubu  \n",
       "0     HIRKA  \n",
       "1      pant  \n",
       "2      pant  \n",
       "3     KAZAK  \n",
       "4    tshirt  "
      ]
     },
     "execution_count": 6,
     "metadata": {},
     "output_type": "execute_result"
    }
   ],
   "source": [
    "data = pd.read_csv(\"../data/data_ug_detection.csv\", names=[\"sidSecenek\", \"cinsiyet\", \"resimAdresi\", \"urunGrubu\"]).sample(frac=1).reset_index(drop=True)\n",
    "data.head() "
   ]
  },
  {
   "cell_type": "code",
   "execution_count": 7,
   "metadata": {},
   "outputs": [
    {
     "data": {
      "text/plain": [
       "gomlek       9876\n",
       "tshirt       9591\n",
       "pant         8315\n",
       "KAZAK        5187\n",
       "sweat        4725\n",
       "dis-giyim    3334\n",
       "CEKET        3235\n",
       "elbise       1507\n",
       "HIRKA        1367\n",
       "ETEK          352\n",
       "Name: urunGrubu, dtype: int64"
      ]
     },
     "execution_count": 7,
     "metadata": {},
     "output_type": "execute_result"
    }
   ],
   "source": [
    "data.urunGrubu.value_counts() "
   ]
  },
  {
   "attachments": {},
   "cell_type": "markdown",
   "metadata": {},
   "source": [
    "# Data Preparation \n",
    "## Gomlek "
   ]
  },
  {
   "cell_type": "code",
   "execution_count": 8,
   "metadata": {},
   "outputs": [],
   "source": [
    "df_gomlek = data[data.urunGrubu == \"gomlek\"].sample(frac=1) "
   ]
  },
  {
   "cell_type": "code",
   "execution_count": 9,
   "metadata": {},
   "outputs": [
    {
     "data": {
      "image/png": "[encoded data removed]",
      "text/plain": [
       "<Figure size 640x480 with 1 Axes>"
      ]
     },
     "metadata": {},
     "output_type": "display_data"
    }
   ],
   "source": [
    "from matplotlib import pyplot as plt \n",
    "\n",
    "plt.hist(df_gomlek.cinsiyet)\n",
    "plt.show()"
   ]
  },
  {
   "cell_type": "code",
   "execution_count": 10,
   "metadata": {},
   "outputs": [
    {
     "data": {
      "text/plain": [
       "ERKEK          7142\n",
       "BAYAN          2178\n",
       "ERKEK COCUK     488\n",
       "KIZ COCUK        68\n",
       "Name: cinsiyet, dtype: int64"
      ]
     },
     "execution_count": 10,
     "metadata": {},
     "output_type": "execute_result"
    }
   ],
   "source": [
    "df_gomlek.cinsiyet.value_counts() "
   ]
  },
  {
   "cell_type": "code",
   "execution_count": 11,
   "metadata": {},
   "outputs": [
    {
     "data": {
      "text/plain": [
       "722.0"
      ]
     },
     "execution_count": 11,
     "metadata": {},
     "output_type": "execute_result"
    }
   ],
   "source": [
    "(2000 - (488 + 68))  / 2 "
   ]
  },
  {
   "cell_type": "code",
   "execution_count": 12,
   "metadata": {},
   "outputs": [],
   "source": [
    "result_gomlek = pd.concat([\n",
    "                            df_gomlek[df_gomlek.cinsiyet == 'KIZ COCUK'], \n",
    "                            df_gomlek[df_gomlek.cinsiyet == 'ERKEK COCUK'], \n",
    "                            df_gomlek[df_gomlek.cinsiyet == 'BAYAN'].sample(n=722), \n",
    "                            df_gomlek[df_gomlek.cinsiyet == \"ERKEK\"].sample(n=722)\n",
    "                        ]).sample(frac=1).reset_index(drop=True)"
   ]
  },
  {
   "cell_type": "code",
   "execution_count": 13,
   "metadata": {},
   "outputs": [],
   "source": [
    "result_gomlek[\"resimId\"] = 1 "
   ]
  },
  {
   "cell_type": "code",
   "execution_count": 14,
   "metadata": {},
   "outputs": [],
   "source": [
    "def change_img_id(dataframe: pd.DataFrame, nth: str = 2):\n",
    "    dataframe[\"resimAdresi\"] = dataframe[\"resimAdresi\"].apply(lambda x: x.replace('-1.jpg', f'-{nth}.jpg'))\n",
    "    dataframe[\"resimId\"] = nth\n",
    "    return dataframe  "
   ]
  },
  {
   "cell_type": "code",
   "execution_count": 15,
   "metadata": {},
   "outputs": [],
   "source": [
    "copy1 = result_gomlek.copy()\n",
    "copy1 = change_img_id(copy1) \n",
    "\n",
    "copy2 = result_gomlek.copy()\n",
    "copy2 = change_img_id(copy2, nth=3)\n",
    "\n",
    "result_gomlek = pd.concat([result_gomlek, copy1, copy2], axis=0).reset_index(drop=True) "
   ]
  },
  {
   "cell_type": "code",
   "execution_count": 16,
   "metadata": {},
   "outputs": [
    {
     "data": {
      "text/plain": [
       "(6000, 5)"
      ]
     },
     "execution_count": 16,
     "metadata": {},
     "output_type": "execute_result"
    }
   ],
   "source": [
    "result_gomlek.shape"
   ]
  },
  {
   "attachments": {},
   "cell_type": "markdown",
   "metadata": {},
   "source": [
    "## tshirt"
   ]
  },
  {
   "cell_type": "code",
   "execution_count": 17,
   "metadata": {},
   "outputs": [
    {
     "data": {
      "text/plain": [
       "ERKEK          5657\n",
       "BAYAN          2259\n",
       "ERKEK COCUK    1196\n",
       "KIZ COCUK       449\n",
       "ERKEK BEBEK      17\n",
       "KIZ BEBEK        13\n",
       "Name: cinsiyet, dtype: int64"
      ]
     },
     "execution_count": 17,
     "metadata": {},
     "output_type": "execute_result"
    }
   ],
   "source": [
    "df_tshirt = data[data.urunGrubu == \"tshirt\"].sample(frac=1) \n",
    "\n",
    "df_tshirt.cinsiyet.value_counts() "
   ]
  },
  {
   "cell_type": "code",
   "execution_count": 18,
   "metadata": {},
   "outputs": [
    {
     "data": {
      "text/plain": [
       "525.5"
      ]
     },
     "execution_count": 18,
     "metadata": {},
     "output_type": "execute_result"
    }
   ],
   "source": [
    "(2000 - (500+449)) / 2"
   ]
  },
  {
   "cell_type": "code",
   "execution_count": 19,
   "metadata": {},
   "outputs": [],
   "source": [
    "result_tshirt = pd.concat([\n",
    "                            df_tshirt[df_tshirt.cinsiyet == 'KIZ COCUK'], \n",
    "                            df_tshirt[df_tshirt.cinsiyet == 'ERKEK COCUK'].sample(n=500), \n",
    "                            df_tshirt[df_tshirt.cinsiyet == 'BAYAN'].sample(n=525), \n",
    "                            df_tshirt[df_tshirt.cinsiyet == \"ERKEK\"].sample(n=526)\n",
    "                        ]).sample(frac=1).reset_index(drop=True)"
   ]
  },
  {
   "cell_type": "code",
   "execution_count": 20,
   "metadata": {},
   "outputs": [
    {
     "data": {
      "text/plain": [
       "(2000, 4)"
      ]
     },
     "execution_count": 20,
     "metadata": {},
     "output_type": "execute_result"
    }
   ],
   "source": [
    "result_tshirt.shape "
   ]
  },
  {
   "cell_type": "code",
   "execution_count": 21,
   "metadata": {},
   "outputs": [
    {
     "data": {
      "text/plain": [
       "(6000, 5)"
      ]
     },
     "execution_count": 21,
     "metadata": {},
     "output_type": "execute_result"
    }
   ],
   "source": [
    "result_tshirt[\"resimId\"] = 1 \n",
    "\n",
    "copy1 = result_tshirt.copy()\n",
    "copy1 = change_img_id(copy1) \n",
    "\n",
    "copy2 = result_tshirt.copy()\n",
    "copy2 = change_img_id(copy2, nth=3)\n",
    "\n",
    "result_tshirt = pd.concat([result_tshirt, copy1, copy2], axis=0).reset_index(drop=True) \n",
    "result_tshirt.shape"
   ]
  },
  {
   "attachments": {},
   "cell_type": "markdown",
   "metadata": {},
   "source": [
    "## pant"
   ]
  },
  {
   "cell_type": "code",
   "execution_count": 22,
   "metadata": {},
   "outputs": [
    {
     "data": {
      "text/plain": [
       "ERKEK          5251\n",
       "BAYAN          1846\n",
       "ERKEK COCUK     776\n",
       "KIZ COCUK       422\n",
       "KIZ BEBEK        11\n",
       "ERKEK BEBEK       9\n",
       "Name: cinsiyet, dtype: int64"
      ]
     },
     "execution_count": 22,
     "metadata": {},
     "output_type": "execute_result"
    }
   ],
   "source": [
    "df_pant = data[data.urunGrubu == \"pant\"].sample(frac=1) \n",
    "\n",
    "df_pant.cinsiyet.value_counts() "
   ]
  },
  {
   "cell_type": "code",
   "execution_count": 23,
   "metadata": {},
   "outputs": [
    {
     "data": {
      "text/plain": [
       "401.0"
      ]
     },
     "execution_count": 23,
     "metadata": {},
     "output_type": "execute_result"
    }
   ],
   "source": [
    "(2000 - (776+422)) / 2"
   ]
  },
  {
   "cell_type": "code",
   "execution_count": 24,
   "metadata": {},
   "outputs": [
    {
     "data": {
      "text/plain": [
       "(2000, 5)"
      ]
     },
     "execution_count": 24,
     "metadata": {},
     "output_type": "execute_result"
    }
   ],
   "source": [
    "result_pant = pd.concat([\n",
    "                            df_pant[df_pant.cinsiyet == 'KIZ COCUK'], \n",
    "                            df_pant[df_pant.cinsiyet == 'ERKEK COCUK'], \n",
    "                            df_pant[df_pant.cinsiyet == 'BAYAN'].sample(n=401), \n",
    "                            df_pant[df_pant.cinsiyet == \"ERKEK\"].sample(n=401)\n",
    "                        ]).sample(frac=1).reset_index(drop=True)\n",
    "\n",
    "result_pant[\"resimId\"] = 1 \n",
    "result_pant.shape "
   ]
  },
  {
   "cell_type": "code",
   "execution_count": 25,
   "metadata": {},
   "outputs": [
    {
     "data": {
      "text/plain": [
       "(6000, 5)"
      ]
     },
     "execution_count": 25,
     "metadata": {},
     "output_type": "execute_result"
    }
   ],
   "source": [
    "copy1 = result_pant.copy()\n",
    "copy1 = change_img_id(copy1) \n",
    "\n",
    "copy2 = result_pant.copy()\n",
    "copy2 = change_img_id(copy2, nth=3)\n",
    "\n",
    "result_pant = pd.concat([result_pant, copy1, copy2], axis=0).reset_index(drop=True).sample(frac=1).reset_index(drop=True) \n",
    "result_pant.shape"
   ]
  },
  {
   "attachments": {},
   "cell_type": "markdown",
   "metadata": {},
   "source": [
    "## KAZAK"
   ]
  },
  {
   "cell_type": "code",
   "execution_count": 26,
   "metadata": {},
   "outputs": [
    {
     "data": {
      "text/plain": [
       "ERKEK          3314\n",
       "BAYAN          1298\n",
       "ERKEK COCUK     345\n",
       "KIZ COCUK       226\n",
       "KIZ BEBEK         2\n",
       "ERKEK BEBEK       2\n",
       "Name: cinsiyet, dtype: int64"
      ]
     },
     "execution_count": 26,
     "metadata": {},
     "output_type": "execute_result"
    }
   ],
   "source": [
    "df_KAZAK = data[data.urunGrubu == \"KAZAK\"].sample(frac=1) \n",
    "\n",
    "df_KAZAK.cinsiyet.value_counts() "
   ]
  },
  {
   "cell_type": "code",
   "execution_count": 27,
   "metadata": {},
   "outputs": [
    {
     "data": {
      "text/plain": [
       "714.5"
      ]
     },
     "execution_count": 27,
     "metadata": {},
     "output_type": "execute_result"
    }
   ],
   "source": [
    "(2000 - (345+226)) / 2"
   ]
  },
  {
   "cell_type": "code",
   "execution_count": 28,
   "metadata": {},
   "outputs": [
    {
     "data": {
      "text/plain": [
       "(2000, 5)"
      ]
     },
     "execution_count": 28,
     "metadata": {},
     "output_type": "execute_result"
    }
   ],
   "source": [
    "result_KAZAK = pd.concat([\n",
    "                            df_KAZAK[df_KAZAK.cinsiyet == 'KIZ COCUK'], \n",
    "                            df_KAZAK[df_KAZAK.cinsiyet == 'ERKEK COCUK'], \n",
    "                            df_KAZAK[df_KAZAK.cinsiyet == 'BAYAN'].sample(n=715), \n",
    "                            df_KAZAK[df_KAZAK.cinsiyet == \"ERKEK\"].sample(n=714)\n",
    "                        ]).sample(frac=1).reset_index(drop=True)\n",
    "\n",
    "result_KAZAK[\"resimId\"] = 1 \n",
    "result_KAZAK.shape "
   ]
  },
  {
   "cell_type": "code",
   "execution_count": 29,
   "metadata": {},
   "outputs": [
    {
     "data": {
      "text/plain": [
       "(6000, 5)"
      ]
     },
     "execution_count": 29,
     "metadata": {},
     "output_type": "execute_result"
    }
   ],
   "source": [
    "copy1 = result_KAZAK.copy()\n",
    "copy1 = change_img_id(copy1) \n",
    "\n",
    "copy2 = result_KAZAK.copy()\n",
    "copy2 = change_img_id(copy2, nth=3)\n",
    "\n",
    "result_KAZAK = pd.concat([result_KAZAK, copy1, copy2], axis=0).reset_index(drop=True).sample(frac=1).reset_index(drop=True) \n",
    "result_KAZAK.shape"
   ]
  },
  {
   "attachments": {},
   "cell_type": "markdown",
   "metadata": {},
   "source": [
    "## sweat"
   ]
  },
  {
   "cell_type": "code",
   "execution_count": 30,
   "metadata": {},
   "outputs": [
    {
     "data": {
      "text/plain": [
       "ERKEK          2207\n",
       "BAYAN          1164\n",
       "ERKEK COCUK     928\n",
       "KIZ COCUK       422\n",
       "ERKEK BEBEK       2\n",
       "KIZ BEBEK         2\n",
       "Name: cinsiyet, dtype: int64"
      ]
     },
     "execution_count": 30,
     "metadata": {},
     "output_type": "execute_result"
    }
   ],
   "source": [
    "df_sweat = data[data.urunGrubu == \"sweat\"].sample(frac=1) \n",
    "\n",
    "df_sweat.cinsiyet.value_counts() "
   ]
  },
  {
   "cell_type": "code",
   "execution_count": 31,
   "metadata": {},
   "outputs": [
    {
     "data": {
      "text/plain": [
       "539.0"
      ]
     },
     "execution_count": 31,
     "metadata": {},
     "output_type": "execute_result"
    }
   ],
   "source": [
    "(2000 - (500+422)) / 2"
   ]
  },
  {
   "cell_type": "code",
   "execution_count": 32,
   "metadata": {},
   "outputs": [
    {
     "data": {
      "text/plain": [
       "(2000, 5)"
      ]
     },
     "execution_count": 32,
     "metadata": {},
     "output_type": "execute_result"
    }
   ],
   "source": [
    "result_sweat = pd.concat([\n",
    "                            df_sweat[df_sweat.cinsiyet == 'KIZ COCUK'], \n",
    "                            df_sweat[df_sweat.cinsiyet == 'ERKEK COCUK'].sample(n=500), \n",
    "                            df_sweat[df_sweat.cinsiyet == 'BAYAN'].sample(n=539), \n",
    "                            df_sweat[df_sweat.cinsiyet == \"ERKEK\"].sample(n=539)\n",
    "                        ]).sample(frac=1).reset_index(drop=True)\n",
    "\n",
    "result_sweat[\"resimId\"] = 1 \n",
    "result_sweat.shape "
   ]
  },
  {
   "cell_type": "code",
   "execution_count": 33,
   "metadata": {},
   "outputs": [
    {
     "data": {
      "text/plain": [
       "(6000, 5)"
      ]
     },
     "execution_count": 33,
     "metadata": {},
     "output_type": "execute_result"
    }
   ],
   "source": [
    "copy1 = result_sweat.copy()\n",
    "copy1 = change_img_id(copy1) \n",
    "\n",
    "copy2 = result_sweat.copy()\n",
    "copy2 = change_img_id(copy2, nth=3)\n",
    "\n",
    "result_sweat = pd.concat([result_sweat, copy1, copy2], axis=0).reset_index(drop=True).sample(frac=1).reset_index(drop=True) \n",
    "result_sweat.shape"
   ]
  },
  {
   "attachments": {},
   "cell_type": "markdown",
   "metadata": {},
   "source": [
    "## dis-giyim"
   ]
  },
  {
   "cell_type": "code",
   "execution_count": 34,
   "metadata": {},
   "outputs": [
    {
     "data": {
      "text/plain": [
       "ERKEK          2277\n",
       "BAYAN           819\n",
       "ERKEK COCUK     159\n",
       "KIZ COCUK        79\n",
       "Name: cinsiyet, dtype: int64"
      ]
     },
     "execution_count": 34,
     "metadata": {},
     "output_type": "execute_result"
    }
   ],
   "source": [
    "df_disgiyim = data[data.urunGrubu == \"dis-giyim\"].sample(frac=1) \n",
    "\n",
    "df_disgiyim.cinsiyet.value_counts() "
   ]
  },
  {
   "cell_type": "code",
   "execution_count": 35,
   "metadata": {},
   "outputs": [
    {
     "data": {
      "text/plain": [
       "943"
      ]
     },
     "execution_count": 35,
     "metadata": {},
     "output_type": "execute_result"
    }
   ],
   "source": [
    "(2000 - (819+159+79))"
   ]
  },
  {
   "cell_type": "code",
   "execution_count": 36,
   "metadata": {},
   "outputs": [
    {
     "data": {
      "text/plain": [
       "(2000, 5)"
      ]
     },
     "execution_count": 36,
     "metadata": {},
     "output_type": "execute_result"
    }
   ],
   "source": [
    "result_disgiyim = pd.concat([\n",
    "                            df_disgiyim[df_disgiyim.cinsiyet == 'KIZ COCUK'], \n",
    "                            df_disgiyim[df_disgiyim.cinsiyet == 'ERKEK COCUK'], \n",
    "                            df_disgiyim[df_disgiyim.cinsiyet == 'BAYAN'], \n",
    "                            df_disgiyim[df_disgiyim.cinsiyet == \"ERKEK\"].sample(n=943)\n",
    "                        ]).sample(frac=1).reset_index(drop=True)\n",
    "\n",
    "result_disgiyim[\"resimId\"] = 1 \n",
    "result_disgiyim.shape "
   ]
  },
  {
   "cell_type": "code",
   "execution_count": 37,
   "metadata": {},
   "outputs": [
    {
     "data": {
      "text/plain": [
       "(6000, 5)"
      ]
     },
     "execution_count": 37,
     "metadata": {},
     "output_type": "execute_result"
    }
   ],
   "source": [
    "copy1 = result_disgiyim.copy()\n",
    "copy1 = change_img_id(copy1) \n",
    "\n",
    "copy2 = result_disgiyim.copy()\n",
    "copy2 = change_img_id(copy2, nth=3)\n",
    "\n",
    "result_disgiyim = pd.concat([result_disgiyim, copy1, copy2], axis=0).reset_index(drop=True).sample(frac=1).reset_index(drop=True) \n",
    "result_disgiyim.shape"
   ]
  },
  {
   "attachments": {},
   "cell_type": "markdown",
   "metadata": {},
   "source": [
    "## CEKET"
   ]
  },
  {
   "cell_type": "code",
   "execution_count": 38,
   "metadata": {},
   "outputs": [
    {
     "data": {
      "text/plain": [
       "ERKEK          2935\n",
       "BAYAN           276\n",
       "ERKEK COCUK      22\n",
       "KIZ COCUK         2\n",
       "Name: cinsiyet, dtype: int64"
      ]
     },
     "execution_count": 38,
     "metadata": {},
     "output_type": "execute_result"
    }
   ],
   "source": [
    "df_CEKET = data[data.urunGrubu == \"CEKET\"].sample(frac=1) \n",
    "\n",
    "df_CEKET.cinsiyet.value_counts() "
   ]
  },
  {
   "cell_type": "code",
   "execution_count": 39,
   "metadata": {},
   "outputs": [
    {
     "data": {
      "text/plain": [
       "1700"
      ]
     },
     "execution_count": 39,
     "metadata": {},
     "output_type": "execute_result"
    }
   ],
   "source": [
    "(2000 - (22+2+276))"
   ]
  },
  {
   "cell_type": "code",
   "execution_count": 40,
   "metadata": {},
   "outputs": [
    {
     "data": {
      "text/plain": [
       "(2000, 5)"
      ]
     },
     "execution_count": 40,
     "metadata": {},
     "output_type": "execute_result"
    }
   ],
   "source": [
    "result_CEKET = pd.concat([\n",
    "                            df_CEKET[df_CEKET.cinsiyet == 'KIZ COCUK'], \n",
    "                            df_CEKET[df_CEKET.cinsiyet == 'ERKEK COCUK'], \n",
    "                            df_CEKET[df_CEKET.cinsiyet == 'BAYAN'], \n",
    "                            df_CEKET[df_CEKET.cinsiyet == \"ERKEK\"].sample(n=1700)\n",
    "                        ]).sample(frac=1).reset_index(drop=True)\n",
    "\n",
    "result_CEKET[\"resimId\"] = 1 \n",
    "result_CEKET.shape "
   ]
  },
  {
   "cell_type": "code",
   "execution_count": 41,
   "metadata": {},
   "outputs": [
    {
     "data": {
      "text/plain": [
       "(6000, 5)"
      ]
     },
     "execution_count": 41,
     "metadata": {},
     "output_type": "execute_result"
    }
   ],
   "source": [
    "copy1 = result_CEKET.copy()\n",
    "copy1 = change_img_id(copy1) \n",
    "\n",
    "copy2 = result_CEKET.copy()\n",
    "copy2 = change_img_id(copy2, nth=3)\n",
    "\n",
    "result_CEKET = pd.concat([result_CEKET, copy1, copy2], axis=0).reset_index(drop=True).sample(frac=1).reset_index(drop=True) \n",
    "result_CEKET.shape"
   ]
  },
  {
   "attachments": {},
   "cell_type": "markdown",
   "metadata": {},
   "source": [
    "## elbise"
   ]
  },
  {
   "cell_type": "code",
   "execution_count": 42,
   "metadata": {},
   "outputs": [
    {
     "data": {
      "text/plain": [
       "BAYAN        1134\n",
       "KIZ COCUK     364\n",
       "KIZ BEBEK       9\n",
       "Name: cinsiyet, dtype: int64"
      ]
     },
     "execution_count": 42,
     "metadata": {},
     "output_type": "execute_result"
    }
   ],
   "source": [
    "df_elbise = data[data.urunGrubu == \"elbise\"].sample(frac=1) \n",
    "\n",
    "df_elbise.cinsiyet.value_counts() "
   ]
  },
  {
   "cell_type": "code",
   "execution_count": 43,
   "metadata": {},
   "outputs": [
    {
     "data": {
      "text/plain": [
       "(1507, 5)"
      ]
     },
     "execution_count": 43,
     "metadata": {},
     "output_type": "execute_result"
    }
   ],
   "source": [
    "result_elbise = df_elbise.sample(frac=1).reset_index(drop=True)\n",
    "\n",
    "result_elbise[\"resimId\"] = 1 \n",
    "result_elbise.shape "
   ]
  },
  {
   "cell_type": "code",
   "execution_count": 44,
   "metadata": {},
   "outputs": [
    {
     "data": {
      "text/plain": [
       "(4521, 5)"
      ]
     },
     "execution_count": 44,
     "metadata": {},
     "output_type": "execute_result"
    }
   ],
   "source": [
    "copy1 = result_elbise.copy()\n",
    "copy1 = change_img_id(copy1) \n",
    "\n",
    "copy2 = result_elbise.copy()\n",
    "copy2 = change_img_id(copy2, nth=3)\n",
    "\n",
    "result_elbise = pd.concat([result_elbise, copy1, copy2], axis=0).reset_index(drop=True).sample(frac=1).reset_index(drop=True) \n",
    "result_elbise.shape"
   ]
  },
  {
   "attachments": {},
   "cell_type": "markdown",
   "metadata": {},
   "source": [
    "## HIRKA"
   ]
  },
  {
   "cell_type": "code",
   "execution_count": 45,
   "metadata": {},
   "outputs": [
    {
     "data": {
      "text/plain": [
       "ERKEK          588\n",
       "BAYAN          577\n",
       "ERKEK COCUK    102\n",
       "KIZ COCUK      100\n",
       "Name: cinsiyet, dtype: int64"
      ]
     },
     "execution_count": 45,
     "metadata": {},
     "output_type": "execute_result"
    }
   ],
   "source": [
    "df_HIRKA = data[data.urunGrubu == \"HIRKA\"].sample(frac=1) \n",
    "\n",
    "df_HIRKA.cinsiyet.value_counts() "
   ]
  },
  {
   "cell_type": "code",
   "execution_count": 46,
   "metadata": {},
   "outputs": [
    {
     "data": {
      "text/plain": [
       "(1367, 5)"
      ]
     },
     "execution_count": 46,
     "metadata": {},
     "output_type": "execute_result"
    }
   ],
   "source": [
    "result_HIRKA = df_HIRKA.sample(frac=1).reset_index(drop=True)\n",
    "\n",
    "result_HIRKA[\"resimId\"] = 1 \n",
    "result_HIRKA.shape "
   ]
  },
  {
   "cell_type": "code",
   "execution_count": 47,
   "metadata": {},
   "outputs": [
    {
     "data": {
      "text/plain": [
       "(4101, 5)"
      ]
     },
     "execution_count": 47,
     "metadata": {},
     "output_type": "execute_result"
    }
   ],
   "source": [
    "copy1 = result_HIRKA.copy()\n",
    "copy1 = change_img_id(copy1) \n",
    "\n",
    "copy2 = result_HIRKA.copy()\n",
    "copy2 = change_img_id(copy2, nth=3)\n",
    "\n",
    "result_HIRKA = pd.concat([result_HIRKA, copy1, copy2], axis=0).reset_index(drop=True).sample(frac=1).reset_index(drop=True) \n",
    "result_HIRKA.shape"
   ]
  },
  {
   "attachments": {},
   "cell_type": "markdown",
   "metadata": {},
   "source": [
    "## ETEK"
   ]
  },
  {
   "cell_type": "code",
   "execution_count": 48,
   "metadata": {},
   "outputs": [
    {
     "data": {
      "text/plain": [
       "BAYAN        311\n",
       "KIZ COCUK     41\n",
       "Name: cinsiyet, dtype: int64"
      ]
     },
     "execution_count": 48,
     "metadata": {},
     "output_type": "execute_result"
    }
   ],
   "source": [
    "df_ETEK = data[data.urunGrubu == \"ETEK\"].sample(frac=1) \n",
    "\n",
    "df_ETEK.cinsiyet.value_counts() "
   ]
  },
  {
   "cell_type": "code",
   "execution_count": 49,
   "metadata": {},
   "outputs": [
    {
     "data": {
      "text/plain": [
       "(352, 5)"
      ]
     },
     "execution_count": 49,
     "metadata": {},
     "output_type": "execute_result"
    }
   ],
   "source": [
    "result_ETEK = df_ETEK.sample(frac=1).reset_index(drop=True)\n",
    "\n",
    "result_ETEK[\"resimId\"] = 1 \n",
    "result_ETEK.shape "
   ]
  },
  {
   "cell_type": "code",
   "execution_count": 50,
   "metadata": {},
   "outputs": [
    {
     "data": {
      "text/plain": [
       "(1056, 5)"
      ]
     },
     "execution_count": 50,
     "metadata": {},
     "output_type": "execute_result"
    }
   ],
   "source": [
    "copy1 = result_ETEK.copy()\n",
    "copy1 = change_img_id(copy1) \n",
    "\n",
    "copy2 = result_ETEK.copy()\n",
    "copy2 = change_img_id(copy2, nth=3)\n",
    "\n",
    "result_ETEK = pd.concat([result_ETEK, copy1, copy2], axis=0).reset_index(drop=True).sample(frac=1).reset_index(drop=True) \n",
    "result_ETEK.shape"
   ]
  },
  {
   "attachments": {},
   "cell_type": "markdown",
   "metadata": {},
   "source": [
    "## Merge Data "
   ]
  },
  {
   "cell_type": "code",
   "execution_count": 53,
   "metadata": {},
   "outputs": [
    {
     "data": {
      "text/plain": [
       "(51678, 5)"
      ]
     },
     "execution_count": 53,
     "metadata": {},
     "output_type": "execute_result"
    }
   ],
   "source": [
    "result_data = pd.concat([result_gomlek, \n",
    "           result_tshirt, \n",
    "           result_pant, \n",
    "           result_KAZAK, \n",
    "           result_sweat, \n",
    "           result_disgiyim, \n",
    "           result_CEKET, \n",
    "           result_elbise, \n",
    "           result_HIRKA, \n",
    "           result_ETEK]).sample(frac=1).reset_index(drop=True)\n",
    "\n",
    "result_data.shape"
   ]
  },
  {
   "cell_type": "code",
   "execution_count": 54,
   "metadata": {},
   "outputs": [
    {
     "data": {
      "text/plain": [
       "CEKET        6000\n",
       "sweat        6000\n",
       "tshirt       6000\n",
       "gomlek       6000\n",
       "dis-giyim    6000\n",
       "KAZAK        6000\n",
       "pant         6000\n",
       "elbise       4521\n",
       "HIRKA        4101\n",
       "ETEK         1056\n",
       "Name: urunGrubu, dtype: int64"
      ]
     },
     "execution_count": 54,
     "metadata": {},
     "output_type": "execute_result"
    }
   ],
   "source": [
    "result_data.urunGrubu.value_counts() "
   ]
  },
  {
   "cell_type": "code",
   "execution_count": 55,
   "metadata": {},
   "outputs": [],
   "source": [
    "result_data.to_csv(\"../data/extracted_data.csv\") "
   ]
  }
 ],
 "metadata": {
  "kernelspec": {
   "display_name": "env_similar-products",
   "language": "python",
   "name": "python3"
  },
  "language_info": {
   "codemirror_mode": {
    "name": "ipython",
    "version": 3
   },
   "file_extension": ".py",
   "mimetype": "text/x-python",
   "name": "python",
   "nbconvert_exporter": "python",
   "pygments_lexer": "ipython3",
   "version": "3.9.13"
  },
  "orig_nbformat": 4
 },
 "nbformat": 4,
 "nbformat_minor": 2
}
